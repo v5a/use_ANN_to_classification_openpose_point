{
 "cells": [
  {
   "cell_type": "code",
   "execution_count": 1,
   "metadata": {},
   "outputs": [],
   "source": [
    "import pandas as pd\n",
    "import matplotlib.pyplot as plt\n",
    "%matplotlib inline\n",
    "import numpy as np\n",
    "from sklearn.model_selection import train_test_split\n"
   ]
  },
  {
   "cell_type": "code",
   "execution_count": 25,
   "metadata": {},
   "outputs": [],
   "source": [
    "\n",
    "batch_size_train = 64\n",
    "batch_size_test = 64\n",
    "\n"
   ]
  },
  {
   "cell_type": "code",
   "execution_count": 26,
   "metadata": {},
   "outputs": [],
   "source": [
    "#其中values表示的是去掉表头和索引，只取数据\n",
    "minst_data = pd.read_csv(\"./Dataset.csv\", header=None).values\n",
    "data = minst_data[:, :16]\n",
    "label = minst_data[:, -1]\n"
   ]
  },
  {
   "cell_type": "code",
   "execution_count": 27,
   "metadata": {},
   "outputs": [
    {
     "data": {
      "text/plain": [
       "array([0.478125  , 0.4125    , 0.434375  , 0.45625   , 0.45625   ,\n",
       "       0.390625  , 0.390625  , 0.        , 0.71666667, 0.80416667,\n",
       "       0.84583333, 0.88958333, 0.86875   , 0.78125   , 0.86875   ,\n",
       "       0.        ])"
      ]
     },
     "execution_count": 27,
     "metadata": {},
     "output_type": "execute_result"
    }
   ],
   "source": [
    "data[0, :]"
   ]
  },
  {
   "cell_type": "code",
   "execution_count": 28,
   "metadata": {},
   "outputs": [
    {
     "data": {
      "text/plain": [
       "2.0"
      ]
     },
     "execution_count": 28,
     "metadata": {},
     "output_type": "execute_result"
    }
   ],
   "source": [
    "label[0]"
   ]
  },
  {
   "cell_type": "code",
   "execution_count": 29,
   "metadata": {},
   "outputs": [
    {
     "name": "stdout",
     "output_type": "stream",
     "text": [
      "(869, 16) (218, 16)\n",
      "(869,) (218,)\n"
     ]
    }
   ],
   "source": [
    "#使用线性模型\n",
    "data_train, data_test, label_train, label_test = train_test_split(data, label, test_size=0.2, random_state=2020)\n",
    "print(data_train.shape, data_test.shape)\n",
    "print(label_train.shape, label_test.shape)\n"
   ]
  },
  {
   "cell_type": "code",
   "execution_count": 30,
   "metadata": {},
   "outputs": [],
   "source": [
    "import torch\n",
    "from torch.utils.data import TensorDataset,DataLoader\n",
    "random_seed = 1\n",
    "torch.cuda.manual_seed(random_seed)\n",
    "\n",
    "data_train = torch.from_numpy(data_train).float()\n",
    "label_train = torch.from_numpy(label_train).long()\n",
    "#TensorDataset相当于zip功能，将data和label按照第一个维度打包成两个tensor，DataLoader主要用来进行batch_size的划分，drop表示是否去除最后不满足一个batch_size大小的数据\n",
    "data_train = DataLoader(TensorDataset(data_train, label_train), batch_size=batch_size_train, shuffle=True, drop_last=True)\n",
    "\n",
    "data_test = torch.from_numpy(data_test).float()\n",
    "label_test = torch.from_numpy(label_test).long()\n",
    "data_test = DataLoader(TensorDataset(data_test, label_test), batch_size=batch_size_test, shuffle=True, drop_last=True)\n"
   ]
  },
  {
   "cell_type": "code",
   "execution_count": 31,
   "metadata": {},
   "outputs": [
    {
     "name": "stdout",
     "output_type": "stream",
     "text": [
      "<class 'torch.Tensor'>\n",
      "torch.Size([1087, 16])\n",
      "<class 'torch.utils.data.dataloader.DataLoader'>\n"
     ]
    }
   ],
   "source": [
    "print(type(torch.tensor(data)))\n",
    "print(torch.tensor(data).shape)\n",
    "print(type(data_train))"
   ]
  },
  {
   "cell_type": "code",
   "execution_count": 38,
   "metadata": {},
   "outputs": [
    {
     "name": "stdout",
     "output_type": "stream",
     "text": [
      "train_name:Linear_for_openpose_by_BN\n",
      "savemodel_name:Linear_for_openpose_by_BN.pt\n"
     ]
    }
   ],
   "source": [
    "import torch\n",
    "import time\n",
    "from torchvision import transforms\n",
    "from torchvision import datasets\n",
    "from torch.utils.data import DataLoader\n",
    "import torch.optim as optim\n",
    "from Linear_for_openpose import LinearNet\n",
    "batch_size = 64\n",
    "##设置本次要训练用的模型\n",
    "train_name = 'Linear_for_openpose_by_BN'\n",
    "print(\"train_name:\" + train_name)\n",
    "##设置模型保存名称\n",
    "savemodel_name = train_name + \".pt\"\n",
    "print(\"savemodel_name:\" + savemodel_name)\n",
    "##设置初始预测率,用于判断高于当前预测率的保存模型\n",
    "toppredicted = 0.0\n",
    "##设置学习率\n",
    "learnrate = 0.05 \n",
    "##设置动量值，如果上一次的momentnum与本次梯度方向是相同的，梯度下降幅度会拉大，起到加速迭代的作用\n",
    "momentnum = 0.5"
   ]
  },
  {
   "cell_type": "code",
   "execution_count": 39,
   "metadata": {},
   "outputs": [],
   "source": [
    "##设置选择训练模型,因为python用的是3.9,用不了match case语法\n",
    "def switch(train_name):\n",
    "    if train_name == 'Linear_for_openpose_by_BN':\n",
    "        return LinearNet()\n",
    " \n",
    " \n",
    " \n",
    " \n",
    "##定义训练模型\n",
    "class Net(torch.nn.Module):\n",
    "    def __init__(self, train_name):\n",
    "        super(Net, self).__init__()\n",
    "        self.model = switch(train_name= train_name)\n",
    "        self.criterion = self.model.criterion\n",
    " \n",
    " \n",
    "    def forward(self, x):\n",
    "        x = self.model(x)\n",
    "        return x"
   ]
  },
  {
   "cell_type": "code",
   "execution_count": 40,
   "metadata": {},
   "outputs": [],
   "source": [
    "model = Net(train_name)\n",
    "##加入判断是CPU训练还是GPU训练\n",
    "device = torch.device(\"cuda:0\" if torch.cuda.is_available() else \"cpu\")\n",
    "model.to(device)\n",
    " \n",
    " \n",
    "##优化器 \n",
    "optimizer = optim.SGD(model.parameters(), lr= learnrate, momentum= momentnum)"
   ]
  },
  {
   "cell_type": "code",
   "execution_count": 41,
   "metadata": {},
   "outputs": [],
   "source": [
    "\n",
    "train_dataloader = data_train\n",
    "test_dataloader = data_test\n"
   ]
  },
  {
   "cell_type": "code",
   "execution_count": 42,
   "metadata": {},
   "outputs": [],
   "source": [
    " \n",
    "##训练函数\n",
    "def train(epoch):\n",
    "    running_loss = 0.0\n",
    "    for batch_idx, data in enumerate(train_dataloader, 0):\n",
    "        inputs, target = data\n",
    "        ##加入CPU和GPU选择\n",
    "        inputs, target = inputs.to(device), target.to(device)\n",
    " \n",
    " \n",
    "        optimizer.zero_grad()\n",
    " \n",
    " \n",
    "        #前馈，反向传播，更新\n",
    "        outputs = model(inputs)\n",
    "        loss = model.criterion(outputs, target)\n",
    "        loss.backward()\n",
    "        optimizer.step()\n",
    " \n",
    " \n",
    "        running_loss += loss.item()\n",
    "        ##计算每300次打印一次学习效果\n",
    "        if batch_idx % 300 == 299:\n",
    "            print('[%d, %5d] loss: %.3f' % (epoch + 1, batch_idx + 1, running_loss / 300))\n",
    "            running_loss = 0.0\n",
    " \n",
    " \n",
    " \n",
    " \n",
    "def test():\n",
    "    correct = 0 \n",
    "    total = 0\n",
    "    ##with这里标记是不再计算梯度\n",
    "    with torch.no_grad():\n",
    "        for data in test_dataloader:\n",
    "            inputs, labels = data\n",
    "            ##加入CPU和GPU选择\n",
    "            inputs, labels = inputs.to(device), labels.to(device)\n",
    " \n",
    " \n",
    " \n",
    " \n",
    "            outputs = model(inputs)\n",
    "            ##预测返回的是两列，第一列是下标就是0-9的值，第二列为预测值，下面的dim=1就是找维度1（第二列）最大值输出\n",
    "            _, predicted = torch.max(outputs.data, dim=1)\n",
    " \n",
    " \n",
    "            total += labels.size(0)\n",
    "            correct += (predicted == labels).sum().item()\n",
    "    \n",
    "    currentpredicted = (100 * correct / total)\n",
    "    ##用global声明toppredicted,用于在函数内部修改在函数外部声明的全局变量，否则报错\n",
    "    global toppredicted\n",
    "    ##当预测率大于原来的保存模型\n",
    "    if currentpredicted > toppredicted:\n",
    "        toppredicted = currentpredicted\n",
    "        torch.save(model.state_dict(), savemodel_name)\n",
    "        print(savemodel_name+\" saved, currentpredicted:%d %%\" % currentpredicted)\n",
    " \n",
    " \n",
    "    print('Accuracy on test set: %d %%' % currentpredicted)        \n",
    " "
   ]
  },
  {
   "cell_type": "code",
   "execution_count": 43,
   "metadata": {},
   "outputs": [
    {
     "name": "stdout",
     "output_type": "stream",
     "text": [
      "Linear_for_openpose_by_BN.pt saved, currentpredicted:52 %\n",
      "Accuracy on test set: 52 %\n",
      "Linear_for_openpose_by_BN.pt saved, currentpredicted:53 %\n",
      "Accuracy on test set: 53 %\n",
      "Accuracy on test set: 51 %\n",
      "Accuracy on test set: 50 %\n",
      "Accuracy on test set: 52 %\n",
      "Accuracy on test set: 51 %\n",
      "Accuracy on test set: 51 %\n",
      "Accuracy on test set: 53 %\n",
      "Accuracy on test set: 51 %\n",
      "Accuracy on test set: 50 %\n",
      "Accuracy on test set: 51 %\n",
      "Accuracy on test set: 53 %\n",
      "Accuracy on test set: 51 %\n",
      "Accuracy on test set: 53 %\n",
      "Accuracy on test set: 50 %\n",
      "Accuracy on test set: 52 %\n",
      "Linear_for_openpose_by_BN.pt saved, currentpredicted:53 %\n",
      "Accuracy on test set: 53 %\n",
      "Accuracy on test set: 51 %\n",
      "Accuracy on test set: 52 %\n",
      "Accuracy on test set: 52 %\n",
      "Accuracy on test set: 52 %\n",
      "Accuracy on test set: 51 %\n",
      "Linear_for_openpose_by_BN.pt saved, currentpredicted:54 %\n",
      "Accuracy on test set: 54 %\n",
      "Accuracy on test set: 52 %\n",
      "Accuracy on test set: 51 %\n",
      "Accuracy on test set: 50 %\n",
      "Accuracy on test set: 52 %\n",
      "Accuracy on test set: 52 %\n",
      "Accuracy on test set: 50 %\n",
      "Accuracy on test set: 52 %\n",
      "Accuracy on test set: 51 %\n",
      "Accuracy on test set: 52 %\n",
      "Accuracy on test set: 51 %\n",
      "Accuracy on test set: 51 %\n",
      "Accuracy on test set: 52 %\n",
      "Accuracy on test set: 51 %\n",
      "Accuracy on test set: 52 %\n",
      "Accuracy on test set: 53 %\n",
      "Accuracy on test set: 50 %\n",
      "Accuracy on test set: 53 %\n",
      "Accuracy on test set: 52 %\n",
      "Accuracy on test set: 51 %\n",
      "Accuracy on test set: 53 %\n",
      "Accuracy on test set: 49 %\n",
      "Linear_for_openpose_by_BN.pt saved, currentpredicted:60 %\n",
      "Accuracy on test set: 60 %\n",
      "Linear_for_openpose_by_BN.pt saved, currentpredicted:66 %\n",
      "Accuracy on test set: 66 %\n",
      "Accuracy on test set: 52 %\n",
      "Accuracy on test set: 51 %\n",
      "Accuracy on test set: 54 %\n",
      "Linear_for_openpose_by_BN.pt saved, currentpredicted:72 %\n",
      "Accuracy on test set: 72 %\n",
      "Accuracy on test set: 65 %\n",
      "Accuracy on test set: 50 %\n",
      "Accuracy on test set: 52 %\n",
      "Linear_for_openpose_by_BN.pt saved, currentpredicted:81 %\n",
      "Accuracy on test set: 81 %\n",
      "Accuracy on test set: 77 %\n",
      "Accuracy on test set: 52 %\n",
      "Accuracy on test set: 67 %\n",
      "Accuracy on test set: 61 %\n",
      "Accuracy on test set: 71 %\n",
      "Accuracy on test set: 80 %\n",
      "Linear_for_openpose_by_BN.pt saved, currentpredicted:83 %\n",
      "Accuracy on test set: 83 %\n",
      "Accuracy on test set: 80 %\n",
      "Accuracy on test set: 63 %\n",
      "Accuracy on test set: 80 %\n",
      "Accuracy on test set: 61 %\n",
      "Accuracy on test set: 56 %\n",
      "Accuracy on test set: 52 %\n",
      "Accuracy on test set: 58 %\n",
      "Accuracy on test set: 64 %\n",
      "Accuracy on test set: 55 %\n",
      "Accuracy on test set: 80 %\n",
      "Accuracy on test set: 78 %\n",
      "Accuracy on test set: 82 %\n",
      "Accuracy on test set: 79 %\n",
      "Accuracy on test set: 83 %\n",
      "Accuracy on test set: 81 %\n",
      "Accuracy on test set: 65 %\n",
      "Accuracy on test set: 83 %\n",
      "Accuracy on test set: 82 %\n",
      "Accuracy on test set: 80 %\n",
      "Accuracy on test set: 80 %\n",
      "Accuracy on test set: 77 %\n",
      "Accuracy on test set: 79 %\n",
      "Accuracy on test set: 78 %\n",
      "Linear_for_openpose_by_BN.pt saved, currentpredicted:85 %\n",
      "Accuracy on test set: 85 %\n",
      "Accuracy on test set: 59 %\n",
      "Accuracy on test set: 78 %\n",
      "Accuracy on test set: 79 %\n",
      "Accuracy on test set: 81 %\n",
      "Accuracy on test set: 83 %\n",
      "Accuracy on test set: 80 %\n",
      "Accuracy on test set: 78 %\n",
      "Accuracy on test set: 83 %\n",
      "Linear_for_openpose_by_BN.pt saved, currentpredicted:88 %\n",
      "Accuracy on test set: 88 %\n",
      "Accuracy on test set: 75 %\n",
      "Accuracy on test set: 79 %\n",
      "Accuracy on test set: 81 %\n",
      "Accuracy on test set: 85 %\n",
      "Accuracy on test set: 65 %\n",
      "Accuracy on test set: 82 %\n",
      "Accuracy on test set: 79 %\n",
      "Accuracy on test set: 79 %\n",
      "Accuracy on test set: 71 %\n",
      "Accuracy on test set: 88 %\n",
      "Accuracy on test set: 68 %\n",
      "Accuracy on test set: 82 %\n",
      "Accuracy on test set: 81 %\n",
      "Accuracy on test set: 88 %\n",
      "Accuracy on test set: 87 %\n",
      "Accuracy on test set: 82 %\n",
      "Accuracy on test set: 88 %\n",
      "Accuracy on test set: 79 %\n",
      "Accuracy on test set: 80 %\n",
      "Accuracy on test set: 83 %\n",
      "Accuracy on test set: 84 %\n",
      "Accuracy on test set: 88 %\n",
      "Accuracy on test set: 87 %\n",
      "Accuracy on test set: 79 %\n",
      "Accuracy on test set: 82 %\n",
      "Accuracy on test set: 84 %\n",
      "Accuracy on test set: 86 %\n",
      "Accuracy on test set: 82 %\n",
      "Accuracy on test set: 78 %\n",
      "Linear_for_openpose_by_BN.pt saved, currentpredicted:90 %\n",
      "Accuracy on test set: 90 %\n",
      "Accuracy on test set: 81 %\n",
      "Accuracy on test set: 86 %\n",
      "Accuracy on test set: 73 %\n",
      "Accuracy on test set: 80 %\n",
      "Accuracy on test set: 55 %\n",
      "Accuracy on test set: 82 %\n",
      "Accuracy on test set: 61 %\n",
      "Accuracy on test set: 74 %\n",
      "Accuracy on test set: 61 %\n",
      "Accuracy on test set: 57 %\n",
      "Accuracy on test set: 80 %\n",
      "Accuracy on test set: 58 %\n",
      "Accuracy on test set: 88 %\n",
      "Accuracy on test set: 58 %\n",
      "Accuracy on test set: 82 %\n",
      "Accuracy on test set: 75 %\n",
      "Accuracy on test set: 75 %\n",
      "Accuracy on test set: 77 %\n",
      "Accuracy on test set: 88 %\n",
      "Accuracy on test set: 86 %\n",
      "Accuracy on test set: 82 %\n",
      "Accuracy on test set: 75 %\n",
      "Accuracy on test set: 88 %\n",
      "Accuracy on test set: 69 %\n",
      "Accuracy on test set: 84 %\n",
      "Accuracy on test set: 88 %\n",
      "Accuracy on test set: 88 %\n",
      "Accuracy on test set: 86 %\n",
      "Accuracy on test set: 86 %\n",
      "Accuracy on test set: 85 %\n",
      "Accuracy on test set: 89 %\n",
      "Accuracy on test set: 76 %\n",
      "Accuracy on test set: 81 %\n",
      "Linear_for_openpose_by_BN.pt saved, currentpredicted:91 %\n",
      "Accuracy on test set: 91 %\n",
      "Accuracy on test set: 82 %\n",
      "Accuracy on test set: 82 %\n",
      "Accuracy on test set: 59 %\n",
      "Accuracy on test set: 84 %\n",
      "Accuracy on test set: 81 %\n",
      "Accuracy on test set: 75 %\n",
      "Accuracy on test set: 73 %\n",
      "Accuracy on test set: 89 %\n",
      "Accuracy on test set: 88 %\n",
      "Accuracy on test set: 87 %\n",
      "Accuracy on test set: 86 %\n",
      "Accuracy on test set: 85 %\n",
      "Accuracy on test set: 43 %\n",
      "Accuracy on test set: 81 %\n",
      "Accuracy on test set: 74 %\n",
      "Accuracy on test set: 80 %\n",
      "Accuracy on test set: 84 %\n",
      "Accuracy on test set: 84 %\n",
      "Accuracy on test set: 84 %\n",
      "Accuracy on test set: 67 %\n",
      "Accuracy on test set: 88 %\n",
      "Accuracy on test set: 75 %\n",
      "Accuracy on test set: 71 %\n",
      "Accuracy on test set: 82 %\n",
      "Accuracy on test set: 84 %\n",
      "Accuracy on test set: 84 %\n",
      "Accuracy on test set: 83 %\n",
      "Accuracy on test set: 81 %\n",
      "Accuracy on test set: 77 %\n",
      "Accuracy on test set: 80 %\n",
      "Accuracy on test set: 89 %\n",
      "Accuracy on test set: 84 %\n",
      "Accuracy on test set: 85 %\n",
      "Accuracy on test set: 89 %\n",
      "Accuracy on test set: 85 %\n",
      "Accuracy on test set: 84 %\n",
      "Accuracy on test set: 86 %\n",
      "Accuracy on test set: 85 %\n",
      "Accuracy on test set: 84 %\n",
      "Accuracy on test set: 86 %\n",
      "Accuracy on test set: 87 %\n",
      "Accuracy on test set: 86 %\n",
      "use time: 0m 6s\n"
     ]
    }
   ],
   "source": [
    "timestart = time.time()\n",
    "for epoch in range(200):\n",
    "    train(epoch)\n",
    "    test()\n",
    "timeend = time.time() - timestart\n",
    "print(\"use time: {:.0f}m {:.0f}s\".format(timeend // 60, timeend % 60))"
   ]
  },
  {
   "attachments": {},
   "cell_type": "markdown",
   "metadata": {},
   "source": [
    "## 已完成训练\n",
    "\n",
    "如何载入模型？"
   ]
  },
  {
   "cell_type": "code",
   "execution_count": null,
   "metadata": {},
   "outputs": [],
   "source": [
    "#保存时\n",
    "PATH = './model.pth'\n",
    "\n",
    "torch.save(model,PATH)\n",
    "\n",
    "\n"
   ]
  },
  {
   "cell_type": "code",
   "execution_count": null,
   "metadata": {},
   "outputs": [],
   "source": [
    "#加载时\n",
    "model = torch.load('model.pth')\n",
    "device = torch.device(\"cuda:0\" if torch.cuda.is_available() else \"cpu\")\n",
    "model.to(device)\n",
    "##优化器 \n",
    "optimizer = optim.SGD(model.parameters(), lr= learnrate, momentum= momentnum)"
   ]
  },
  {
   "cell_type": "code",
   "execution_count": null,
   "metadata": {},
   "outputs": [],
   "source": [
    "\n",
    "correct = 0 \n",
    "total = 0\n",
    "##with这里标记是不再计算梯度\n",
    "with torch.no_grad():\n",
    "    inputs, labels = torch.tensor(linear_data), torch.tensor(label)\n",
    "    inputs = inputs.to(torch.float32)\n",
    "    ##加入CPU和GPU选择\n",
    "    inputs, labels = inputs.to(device), labels.to(device)\n",
    "    outputs = model(inputs)\n",
    "    ##预测返回的是两列，第一列是下标就是0-9的值，第二列为预测值，下面的dim=1就是找维度1（第二列）最大值输出\n",
    "    _, predicted = torch.max(outputs.data, dim=1)\n",
    "    print(inputs.shape)\n",
    "    print(labels)\n",
    "    print(predicted)\n",
    "    # 前columns设置标签名（预测结果是两列数，就加两个标签），后data为待保存的数据\n",
    "    test=pd.DataFrame(columns=['start'], data=predicted.cpu())\n",
    "    #删除第一行\n",
    "    # test = test.drop(0)\n",
    "    # 2.数据保存，index表示是否显示行名，sep数据分开符\n",
    "    test.to_csv('save1.csv', index=False, sep=',')\n",
    "  \n"
   ]
  }
 ],
 "metadata": {
  "kernelspec": {
   "display_name": "pytorch_py37",
   "language": "python",
   "name": "python3"
  },
  "language_info": {
   "codemirror_mode": {
    "name": "ipython",
    "version": 3
   },
   "file_extension": ".py",
   "mimetype": "text/x-python",
   "name": "python",
   "nbconvert_exporter": "python",
   "pygments_lexer": "ipython3",
   "version": "3.7.16"
  },
  "orig_nbformat": 4,
  "vscode": {
   "interpreter": {
    "hash": "6198aedcd0ac652a444d7ee87cdb474140afc32862f11a7cd22c6cfd8fc2757e"
   }
  }
 },
 "nbformat": 4,
 "nbformat_minor": 2
}
